{
 "cells": [
  {
   "cell_type": "markdown",
   "metadata": {},
   "source": [
    "---\n",
    "### Universidad de Costa Rica\n",
    "#### IE0405 - Modelos Probabilísticos de Señales y Sistemas\n",
    "\n",
    "Segundo semestre del 2020\n",
    "\n",
    "---\n",
    "\n",
    "[comment]: <> (Modificar esta sección con datos personales)\n",
    "\n",
    "* Estudiante: **Karol Liseth Hernández Morera**\n",
    "* Carné: **B63367**\n",
    "* Grupo: **1**\n",
    "\n",
    "# `L1` - *Introducción a Python*\n",
    "\n",
    "> Este es un ejercicio de introducción a Python como lenguaje para computación científica y cálculo numérico, utilizando ejemplos básicos de álgebra de conjuntos, análisis combinatorio y probabilidad clásica. Estas mismas herramientas (y otras) serán fundamentales en el resto del curso para apoyar la solución de problemas de la teoría de probabilidad.\n",
    "\n",
    "---"
   ]
  },
  {
   "cell_type": "markdown",
   "metadata": {},
   "source": [
    "---\n",
    "## L1.1 - Álgebra de conjuntos\n",
    "\n",
    "### Crear funciones de operaciones de álgebra de conjuntos\n",
    "\n",
    "Es posible crear funciones que ejecuten álgebra de conjuntos sobre dos secuencias de datos. Para empezar, defínanse dos conjuntos `A` y `B` como listas."
   ]
  },
  {
   "cell_type": "code",
   "execution_count": 3,
   "metadata": {},
   "outputs": [],
   "source": [
    "A = list((0, 1, 2, 3, 5, 8, 13, 21, 34, 55, 89, 144))\n",
    "B = list((2, 3, 5, 7, 11, 13, 17, 19, 23, 29, 31, 37))"
   ]
  },
  {
   "cell_type": "markdown",
   "metadata": {},
   "source": [
    "* **Ejercicio 1**: Cree dos funciones llamadas `union` e `interseccion`, respectivamente, que reciban como argumentos a `A` y `B` y devuelvan una lista con su unión o su intersección.\n",
    "\n",
    "**Nota**: ¿Cómo hacer funciones? `Py1`."
   ]
  },
  {
   "cell_type": "code",
   "execution_count": 6,
   "metadata": {},
   "outputs": [
    {
     "name": "stdout",
     "output_type": "stream",
     "text": [
      "Intersección: [2, 3, 5, 13]\n",
      "intersección [2, 3, 5, 13]\n"
     ]
    }
   ],
   "source": [
    "# Ejercicio 1\n",
    "A = list((0, 1, 2, 3, 5, 8, 13, 21, 34, 55, 89, 144))\n",
    "B = list((2, 3, 5, 7, 11, 13, 17, 19, 23, 29, 31, 37))\n",
    "\n",
    "print(\"Intersección:\",C)\n",
    "\n",
    "def interseccion (A, B):\n",
    "    C = []\n",
    "    for i in A == B:    \n",
    "        C.append(i)\n",
    "    return C\n",
    "print (\"intersección\", C)\n",
    "\n",
    "\n"
   ]
  },
  {
   "cell_type": "code",
   "execution_count": 80,
   "metadata": {},
   "outputs": [
    {
     "name": "stdout",
     "output_type": "stream",
     "text": [
      "Unión de conjuntos: [0, 1, 7, 8, 11, 17, 19, 21, 23, 29, 31, 34, 37, 55, 89, 144]\n"
     ]
    }
   ],
   "source": [
    "A = list((0, 1, 2, 3, 5, 8, 13, 21, 34, 55, 89, 144))\n",
    "B = list((2, 3, 5, 7, 11, 13, 17, 19, 23, 29, 31, 37))\n",
    "C=[]\n",
    "D=[]\n",
    "for i in A:\n",
    "    if i in B:\n",
    "        pass\n",
    "    else:\n",
    "        C.append(i)\n",
    "        \n",
    "for i in B:\n",
    "    if i in A:\n",
    "        pass\n",
    "    else:\n",
    "        \n",
    "        D.append(i)\n",
    "U= sorted(C + D)\n",
    "\n",
    "print(\"Unión de conjuntos:\", U)\n",
    "           \n"
   ]
  },
  {
   "cell_type": "markdown",
   "metadata": {},
   "source": [
    "### Utilizando funciones nativas de Python\n",
    "\n",
    "Afortunadamente, ¡Python ya tiene estas y otras funciones de operaciones de conjuntos!\n",
    "\n",
    "Para aplicarlas, es necesario crear un nuevo tipo de secuencia (o \"contenedor de datos\", como se definió en `Py0`) del tipo llamado `set` (\"conjunto\", en inglés).\n",
    "\n",
    "Defínanse dos nuevos conjuntos `A` y `B`."
   ]
  },
  {
   "cell_type": "code",
   "execution_count": null,
   "metadata": {},
   "outputs": [],
   "source": []
  },
  {
   "cell_type": "code",
   "execution_count": 2,
   "metadata": {},
   "outputs": [],
   "source": [
    "A = set((0, 1, 2, 3, 5, 8, 13, 21, 34))\n",
    "B = set((2, 3, 5, 7, 11, 13, 17, 19, 23, 29, 31, 37))"
   ]
  },
  {
   "cell_type": "markdown",
   "metadata": {},
   "source": [
    "Es posible crear estos conjuntos con una notación simplificada: \n",
    "\n",
    "```python\n",
    "A = {0, 1, 2, 3, ...}\n",
    "B = {2, 3, 5, 7, ...}\n",
    "```\n",
    "\n",
    "Las operaciones de conjuntos tienen dos notaciones: una como operadores y otra como métodos sobre los objetos tipo `set`.\n",
    "\n",
    "**Nota 1**: Recordar que $A \\cup B = B \\cup A$ y que $A \\cap B = B \\cap A$.\n",
    "\n",
    "**Nota 2**: La lista completa de funciones está en la [documentación](https://docs.python.org/3/library/stdtypes.html#set-types-set-frozenset) de Python y [aquí](https://realpython.com/python-sets/) hay ejemplos."
   ]
  },
  {
   "cell_type": "code",
   "execution_count": null,
   "metadata": {},
   "outputs": [],
   "source": [
    "# Unión con el operador |\n",
    "U1 = A | B\n",
    "\n",
    "# Unión con el método union()\n",
    "U2 = A.union(B)\n",
    "\n",
    "# Intersección con el operador &\n",
    "I1 = A & B\n",
    "\n",
    "# Intersección con el método intersection()\n",
    "I2 = A.intersection(B)\n",
    "\n",
    "print(U1, 'Cardinalidad:', len(U1))\n",
    "print(U2, 'Cardinalidad:', len(U2))\n",
    "print(I1)\n",
    "print(I2)"
   ]
  },
  {
   "cell_type": "markdown",
   "metadata": {},
   "source": [
    "# * **Ejercicio 2**: Sea $S = \\{ 0, 1, 2, \\ldots, 40 \\}$. Encuentre el resultado de las siguientes operaciones:\n",
    "    1. $A \\backslash B$\n",
    "    1. $B \\backslash A$\n",
    "    1. $A \\bigtriangleup B$\n",
    "    1. $\\overline{A}$\n",
    "    1. $\\overline{B}$\n",
    "    1. $\\overline{A \\cup B}$\n",
    "    \n",
    "**Nota**: No olvide los comentarios para explicar cada paso."
   ]
  },
  {
   "cell_type": "code",
   "execution_count": 4,
   "metadata": {},
   "outputs": [
    {
     "name": "stdout",
     "output_type": "stream",
     "text": [
      "{0, 1, 34, 8, 21}\n",
      "{37, 7, 11, 17, 19, 23, 29, 31}\n",
      "{0, 1, 34, 37, 7, 8, 11, 17, 19, 21, 23, 29, 31}\n",
      "{4, 6, 7, 9, 10, 11, 12, 14, 15, 16, 17, 18, 19, 20, 22, 23, 24, 25, 26, 27, 28, 29, 30, 31, 32, 33, 35, 36, 37, 38, 39, 40}\n",
      "{0, 1, 4, 6, 8, 9, 10, 12, 14, 15, 16, 18, 20, 21, 22, 24, 25, 26, 27, 28, 30, 32, 33, 34, 35, 36, 38, 39, 40}\n",
      "{4, 6, 9, 10, 12, 14, 15, 16, 18, 20, 22, 24, 25, 26, 27, 28, 30, 32, 33, 35, 36, 38, 39, 40}\n"
     ]
    }
   ],
   "source": [
    "# Ejercicio 2\n",
    "#1\n",
    "A = set((0, 1, 2, 3, 5, 8, 13, 21, 34))\n",
    "B = set((2, 3, 5, 7, 11, 13, 17, 19, 23, 29, 31, 37))\n",
    "\n",
    "print(A.difference(B))\n",
    "\n",
    "\n",
    "#2\n",
    "\n",
    "\n",
    "print(B.difference(A))\n",
    "\n",
    "#3\n",
    "\n",
    "print((A.symmetric_difference(B)))\n",
    "\n",
    "# 4\n",
    "\n",
    "S= set((0, 1, 2, 3, 4, 5, 6, 7, 8, 9, 10, 11, 12, 13,14, 15, 16, 17, 18, 19, 20, 21, 22, 23, 24, 25, 26, 27, 28, 29, 30, 31, 32, 33, 34, 35, 36, 37, 38, 39, 40))\n",
    "\n",
    "\n",
    "print(S.difference(A))\n",
    "\n",
    "\n",
    "#5\n",
    "\n",
    "S= set((0, 1, 2, 3, 4, 5, 6, 7, 8, 9, 10, 11, 12, 13,14, 15, 16, 17, 18, 19, 20, 21, 22, 23, 24, 25, 26, 27, 28, 29, 30, 31, 32, 33, 34, 35, 36, 37, 38, 39, 40))\n",
    "\n",
    "\n",
    "print(S.difference(B))\n",
    "\n",
    "#\n",
    "\n",
    "\n",
    "h= A.union(B)\n",
    "print(S.difference(h))\n",
    "\n",
    "\n",
    "\n",
    "\n",
    "\n"
   ]
  },
  {
   "cell_type": "markdown",
   "metadata": {},
   "source": [
    "---\n",
    "## L1.2 - Análisis combinatorio\n",
    "\n",
    "Dos funciones de análisis combinatorio están disponibles en el módulo `special` de [SciPy](https://docs.scipy.org/doc/scipy/reference/special.html#combinatorics): combinaciones (`comb`) y permutaciones (`perm`).\n",
    "\n",
    "También están disponibles en la librería estándar `math`, con idénticos resultados."
   ]
  },
  {
   "cell_type": "code",
   "execution_count": 40,
   "metadata": {},
   "outputs": [
    {
     "name": "stdout",
     "output_type": "stream",
     "text": [
      "142506.0\n",
      "17,100,720.0\n"
     ]
    }
   ],
   "source": [
    "from scipy.special import comb, perm\n",
    "\n",
    "a = comb(30, 5)\n",
    "b = perm(30, 5)\n",
    "\n",
    "print(a)\n",
    "print('{:,}'.format(b))"
   ]
  },
  {
   "cell_type": "markdown",
   "metadata": {},
   "source": [
    "* **Ejercicio 3**: En MPSS hay 70 estudiantes. ¿Cuántos grupos diferentes de cinco personas se pueden hacer para trabajo grupal durante las sesiones virtuales?"
   ]
  },
  {
   "cell_type": "code",
   "execution_count": 43,
   "metadata": {},
   "outputs": [
    {
     "name": "stdout",
     "output_type": "stream",
     "text": [
      "La cantidad de grupos diferentes para las sesiones virtuales son: 12103014.0\n"
     ]
    }
   ],
   "source": [
    "# Ejercicio 3\n",
    "#\n",
    "from scipy.special import comb, perm\n",
    "#\n",
    "a = comb(70, 5)\n",
    "\n",
    "#\n",
    "print(\"La cantidad de grupos diferentes para las sesiones virtuales son:\", a)"
   ]
  },
  {
   "cell_type": "markdown",
   "metadata": {},
   "source": [
    "* **Ejercicio 4**: Cinco estudiantes juegan un juego de mesa. ¿De cuántas formas distintas se puede conformar el podio?"
   ]
  },
  {
   "cell_type": "code",
   "execution_count": 1,
   "metadata": {},
   "outputs": [
    {
     "name": "stdout",
     "output_type": "stream",
     "text": [
      "La cantidad de formas distintas se puede conformar el podio son de : 60.0\n"
     ]
    }
   ],
   "source": [
    "# Ejercicio 4\n",
    "#\n",
    "from scipy.special import comb, perm\n",
    "#\n",
    "a = perm(5,3)\n",
    "#\n",
    "print(\"La cantidad de formas distintas se puede conformar el podio son de :\", a)\n"
   ]
  },
  {
   "cell_type": "markdown",
   "metadata": {},
   "source": [
    "---\n",
    "## L1.3 Definiciones de la probabilidad\n",
    "\n",
    "La definición clásica de la probabilidad establece que:\n",
    "\n",
    "$$\n",
    "P(A) = \\frac{n(A)}{n(S)}\n",
    "$$\n",
    "\n",
    "donde $A$ es el evento de interés (compuesto de $n(A)$ resultados elementales) y $S$ es el conjunto universal.\n",
    "\n",
    "* **Ejercicio 5**: Supóngase que en el grupo de MPSS hay 20 mujeres. Si se forman grupos de cinco personas en la sesión virtual, ¿cuál es la probabilidad de que un grupo escogido al azar sea de solo mujeres?"
   ]
  },
  {
   "cell_type": "code",
   "execution_count": 10,
   "metadata": {},
   "outputs": [
    {
     "name": "stdout",
     "output_type": "stream",
     "text": [
      "1.0\n",
      "La probabilidad de que un grupo escogido al azar sea de solo mujeres? : 0.1281003227791028\n"
     ]
    }
   ],
   "source": [
    "# Ejercicio 5\n",
    "\n",
    "#\n",
    "from scipy.special import comb, perm\n",
    "#\n",
    "a = comb(70, 5)\n",
    "#\n",
    "import math\n",
    "\n",
    "h= comb(50,0)\n",
    "\n",
    "m= comb(20,5)\n",
    "\n",
    "pM= h*m\n",
    "\n",
    "pMG= pM/a\n",
    "\n",
    "print(\"La probabilidad de que un grupo escogido al azar sea de solo mujeres? :\", pMG*100 )\n"
   ]
  },
  {
   "cell_type": "markdown",
   "metadata": {},
   "source": [
    "* **Ejercicio 6**: En el mismo grupo de MPSS hay 35 personas que están haciendo o ya hicieron el TCU, 23 personas que están haciendo o ya hicieron la práctica profesional, y 8 personas que están haciendo o ya hicieron ambas. Si se escoge una persona al azar, ¿cuál es la probabilidad de que esta persona esté haciendo a haya hecho el TCU o la práctica profesional (PP) o ambas? Es decir, $P(TCU \\cup PP)$."
   ]
  },
  {
   "cell_type": "code",
   "execution_count": 9,
   "metadata": {},
   "outputs": [
    {
     "name": "stdout",
     "output_type": "stream",
     "text": [
      "La probabilidad de que esta persona esté haciendo a haya hecho el TCU o la práctica profesional (PP) o ambas : 5/7\n"
     ]
    }
   ],
   "source": [
    "# Ejercicio 6\n",
    "\n",
    "#\n",
    "\n",
    "from fractions import Fraction\n",
    "#\n",
    "\n",
    "TCU = Fraction(35,70)\n",
    "#\n",
    "\n",
    "PP = Fraction (23,70)\n",
    "#\n",
    "\n",
    "TCUPP = Fraction (8,70)\n",
    "#\n",
    "\n",
    "P = TCU + PP - TCUPP\n",
    "#\n",
    "\n",
    "print (\"La probabilidad de que esta persona esté haciendo a haya hecho el TCU o la práctica profesional (PP) o ambas :\", P)\n",
    "\n"
   ]
  },
  {
   "cell_type": "markdown",
   "metadata": {},
   "source": [
    "Recuerde convertir este archivo con su solución para entregarlo en formato HTML (para visualizar en web), en **File > Download as > HTML (.html)** y ponerle el nombre `[carné].html` (ejemplo: B12345.html)."
   ]
  },
  {
   "cell_type": "markdown",
   "metadata": {},
   "source": [
    "---\n",
    "\n",
    "**Universidad de Costa Rica**\n",
    "\n",
    "Facultad de Ingeniería\n",
    "\n",
    "Escuela de Ingeniería Eléctrica\n",
    "\n",
    "---"
   ]
  }
 ],
 "metadata": {
  "celltoolbar": "Tags",
  "kernelspec": {
   "display_name": "Python 3",
   "language": "python",
   "name": "python3"
  },
  "language_info": {
   "codemirror_mode": {
    "name": "ipython",
    "version": 3
   },
   "file_extension": ".py",
   "mimetype": "text/x-python",
   "name": "python",
   "nbconvert_exporter": "python",
   "pygments_lexer": "ipython3",
   "version": "3.8.3"
  }
 },
 "nbformat": 4,
 "nbformat_minor": 2
}
