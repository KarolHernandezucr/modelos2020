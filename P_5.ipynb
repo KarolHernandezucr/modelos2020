{
 "cells": [
  {
   "cell_type": "markdown",
   "metadata": {},
   "source": [
    "---\n",
    "\n",
    "## Universidad de Costa Rica\n",
    "### Escuela de Ingeniería Eléctrica\n",
    "#### IE0405 - Modelos Probabilísticos de Señales y Sistemas\n",
    "\n",
    "Segundo semestre del 2020\n",
    "\n",
    "---\n",
    "\n",
    "* Estudiante: **Nombre completo**\n",
    "* Carné: **B12345**\n",
    "* Grupo: **1**\n",
    "\n",
    "\n",
    "# `P5` - Análisis y predicción del consumo diario de energía\n",
    "\n",
    "> Esta actividad extiende el análisis y modelado realizados anteriormente sobre la demanda eléctrica del país a partir de una base de datos del Instituto Costarricense de Electricidad, del 2019. El estudio se orienta ahora en el uso de las cadenas de Markov para determinar la probabilidad de ocurrencia de múltiples estados para el consumo energético diario.\n",
    "\n",
    "---\n",
    "* Elaboración de nota teórica y demostración: **Jeaustin Sirias Chacón**, como parte de IE0499 - Proyecto Eléctrico: *Estudio y simulación de aplicaciones de la teoría de probabilidad en la ingeniería eléctrica*.\n",
    "* Revisión: **Fabián Abarca Calderón**\n"
   ]
  },
  {
   "cell_type": "markdown",
   "metadata": {},
   "source": [
    "---\n",
    "## 1. - El último vals: *Las cadenas de Markov*\n",
    "\n",
    "En el proyecto programado anterior (`P4` - Modulación digital IQ) se estudiaron los **procesos estocásticos**. Algunos de estos tienen la **propiedad de Markov**, según la cual se puede decir que provoca en el sistema una especie de \"amnesia\" al momento de determinar *valores futuros* y condiciona la determinación de probabilidades a partir **únicamente** de los valores presentes."
   ]
  },
  {
   "cell_type": "markdown",
   "metadata": {},
   "source": [
    "## 2. - Construyendo un modelo energético con cadenas de Markov\n",
    "\n",
    "Con la previa reseña es posible intentar construir un modelo básico para el consumo diario nacional de energía en Costa Rica durante el 2019 con las cadenas de Markov. Para ello se reutilizará la base de datos de demanda energética también empleada en los proyectos programados P2 y P3.\n",
    "\n",
    "### 2.1 - Funciones a implementar \n",
    "\n",
    "A continuación se especificarán las funciones auxiliares a desarrollar, para la construcción de la cadena de Markov:\n",
    "\n",
    "1. `energia_diaria(archivo_json)`: Importa la base de datos completa en formato **JSON** y calcula la energía diaria usando [la regla del trapecio](https://es.wikipedia.org/wiki/Regla_del_trapecio) y retorna un vector con el valor de energía de cada día.\n",
    "\n",
    "2. `definicion_estados(vector_energia, numero_estados)`: Clasifica a cada valor de energía en el rango de 1 a `numero_estados` según el nivel de energía y retorna un vector con cada estado.\n",
    "\n",
    "3. `probabilidad_transicion(vector_estados, numero_estados, presente, futuro)`: Calcula la probabilidad de transición entre un estado inicial $i$ en $t$ y un estado futuro $j$ en $t+1$. Retorna la probabilidad $\\Pi_{i,j}$ de transición entre $i$ y $j$, donde:\n",
    "\n",
    "\\begin{equation}\n",
    "P(X_{t+1} = j \\mid X_{t} = i) = \\Pi_{i,j}\n",
    "\\end{equation}"
   ]
  },
  {
   "cell_type": "markdown",
   "metadata": {},
   "source": [
    "#### 2.1.1 - Calculando el consumo diario y parámetros relevantes con `energia_diaria`"
   ]
  },
  {
   "cell_type": "code",
   "execution_count": 1,
   "metadata": {},
   "outputs": [],
   "source": [
    "import pandas as pd\n",
    "import numpy as np\n",
    "from datetime import datetime\n",
    "\n",
    "def energia_diaria(archivo_json):\n",
    "    '''Importa la base de datos completa y devuelve\n",
    "    un vector con la energía diaria, en MWh.\n",
    "    \n",
    "    :param archivo_json: el contenedor con datos crudos\n",
    "    :return: el vector de energía diaria\n",
    "    '''\n",
    "    # Cargar el \"DataFrame\"\n",
    "    df = pd.read_json(archivo_json) \n",
    "\n",
    "    # Convertir en un array de NumPy\n",
    "    datos = np.array(df)  \n",
    "\n",
    "    # Crear vector con todos los valores horarios de demanda\n",
    "    demanda = []\n",
    "\n",
    "    # Extraer la magnitud de la demanda para todas las horas\n",
    "    for hora in range(len(datos)):\n",
    "        demanda.append(datos[hora][0]['MW'])\n",
    "\n",
    "    # Separar las magnitudes en grupos de 24 (24 h)\n",
    "    demanda = np.split(np.array(demanda), len(demanda) / 24)\n",
    "\n",
    "    # Crear vector para almacenar la energía a partir de la demanda\n",
    "    energia = []\n",
    "\n",
    "    # Calcular la energía diaria por la regla del trapecio\n",
    "    for dia in range(len(demanda)):\n",
    "        E = round(np.trapz(demanda[dia]), 2)\n",
    "        energia.append(E)\n",
    "\n",
    "    return energia "
   ]
  },
  {
   "cell_type": "markdown",
   "metadata": {},
   "source": [
    "#### 2.1.2 -  Definiendo el número de estados de energía con `definir_estados`"
   ]
  },
  {
   "cell_type": "code",
   "execution_count": 2,
   "metadata": {},
   "outputs": [],
   "source": [
    "import numpy as np\n",
    "\n",
    "def definicion_estados(vector_energia, estados):\n",
    "    '''Una función que se encarga de retornar\n",
    "    los límites del rango de energía para\n",
    "    una cantidad arbitraria de estados sobre \n",
    "    la base del vector de energía.\n",
    "    \n",
    "    :param energia: vector de energía diaria\n",
    "    :param estados: el número de estados\n",
    "    :return: el vector de estados\n",
    "    '''\n",
    "    \n",
    "    minimo = np.min(vector_energia)\n",
    "    maximo = np.max(vector_energia)\n",
    "    segmento = (maximo - minimo)/estados\n",
    "    vector_estados = np.empty(len(vector_energia))\n",
    "    \n",
    "    for i, dia in enumerate(vector_energia):\n",
    "        diferencia = dia - minimo\n",
    "        proporcion = diferencia // segmento\n",
    "        vector_estados[i] = proporcion + 1\n",
    "        \n",
    "    return vector_estados"
   ]
  },
  {
   "cell_type": "markdown",
   "metadata": {},
   "source": [
    "#### 2.1.3 - Calculando la ocurrencia de las transiciones por estado con `calcular_transiciones`\n",
    "\n",
    "El objetivo de la función será retornar el número de ocurrencias (y por tanto la frecuencia relativa) de la transición de un estado presente $i$ a un estado próximo $j$; es decir, retorna puntualmente una probabilidad $\\Pi_{ij}$  de transición entre las muchas que puede contener la **matriz de transición** $\\Pi$ en función de sus $N$ estados. Obsérvese la siguiente matriz de estados generalizada:\n",
    "\n",
    "\n",
    "$$\n",
    "\\Pi = \\begin{bmatrix}\n",
    "\\Pi_{11} & \\ldots & \\Pi_{1N} \\\\ \n",
    "\\Pi_{21}& \\ldots & \\Pi_{2N}\\\\ \n",
    "\\vdots& \\ddots & \\vdots\\\\ \n",
    "\\Pi_{N1} & \\ldots & \\Pi_{NN}\n",
    "\\end{bmatrix}\n",
    "$$\n",
    "\n",
    "Puesto que $\\Pi$ siempre es una **matriz cuadrada**, entonces habrá $N^2$ probabilidades de transición dentro de la misma. Ahora, dado a que la función `calcular_transiciones` retorna solo una de estas probabilidades, **por ejecución**.\n",
    "\n",
    "**Nota**: ¿Qué ocurriría si se analiza un proceso con $N=10$ estados? Evidentemente, no sería práctico ejecutar esta función $10^2$ veces para completar la matriz $\\Pi$."
   ]
  },
  {
   "cell_type": "code",
   "execution_count": 3,
   "metadata": {},
   "outputs": [],
   "source": [
    "import numpy as np\n",
    "\n",
    "def probabilidad_transicion(vector_estados, numero_estados, presente, futuro):\n",
    "    '''Una función que se encarga de calcular\n",
    "    la probabilidad de ocurrencia de la transición\n",
    "    entre un estado inicial 'i' y un estado futuro 'j'.\n",
    "    \n",
    "    :param vector_estados: el vector con los todos los estados\n",
    "    :param presente: el número del estado presente\n",
    "    :param futuro: el número del estado futuro\n",
    "    :return: la probabilidad de transición\n",
    "    '''\n",
    "    \n",
    "    # Recorrer el vector_estados\n",
    "    ocurrencias_i = 0\n",
    "    ocurrencias_i_j = 0\n",
    "    for i, estado in enumerate(vector_estados[0:-1]):\n",
    "        if estado == presente:\n",
    "            ocurrencias_i += 1\n",
    "            if vector_estados[i+1] == futuro:\n",
    "                ocurrencias_i_j += 1\n",
    "    \n",
    "    # Cálculo de la probabilidad\n",
    "    probabilidad = ocurrencias_i_j / ocurrencias_i\n",
    "    \n",
    "    return probabilidad"
   ]
  },
  {
   "cell_type": "markdown",
   "metadata": {},
   "source": [
    "## 3. - Demostración de las funciones implementadas"
   ]
  },
  {
   "cell_type": "code",
   "execution_count": 5,
   "metadata": {},
   "outputs": [
    {
     "name": "stdout",
     "output_type": "stream",
     "text": [
      "[ 1.  6.  7.  8.  7.  3.  7.  8.  8.  7.  8.  6.  3.  7.  8.  8.  8.  8.\n",
      "  7.  4.  8.  8.  8.  9.  9.  7.  4.  9.  9.  9.  9.  8.  7.  4.  8.  9.\n",
      "  9.  9.  9.  6.  4.  8.  9. 10. 10.  9.  8.  5.  9. 10. 10. 10. 10.  8.\n",
      "  5.  8.  8.  9.  9.  9.  7.  4.  8.  9.  9.  9.  9.  7.  5.  9. 10. 10.\n",
      " 10. 10.  8.  5.  9. 10. 10. 10.  9.  7.  5.  9. 10.  9. 10. 10.  8.  5.\n",
      " 10. 10. 10. 10.  9.  7.  5.  9. 10. 10.  8. 10.  9.  6. 10.  9.  8.  4.\n",
      "  2.  4.  3.  8.  9. 10. 10. 11.  9.  6. 10. 10.  7. 10. 10.  8.  6. 10.\n",
      " 10. 10.  9.  9.  7.  5.  9. 10. 10.  9.  9.  7.  4.  8.  9.  8.  9.  8.\n",
      "  6.  4.  7.  8.  8.  8.  8.  6.  4.  9.  9.  9.  9.  9.  7.  4.  8.  8.\n",
      "  8.  8.  8.  7.  4.  9. 10. 10.  9.  9.  7.  4.  8.  9.  8.  8.  8.  6.\n",
      "  4.  7.  8.  8.  8.  8.  6.  4.  7.  8.  8.  8.  8.  6.  3.  7.  8.  9.\n",
      "  8.  8.  7.  5.  8.  9.  8.  5.  7.  5.  4.  8.  9.  9.  9.  7.  6.  3.\n",
      "  8.  9.  8.  8.  8.  6.  4.  7.  8.  7.  2.  6.  6.  3.  7.  8.  8.  8.\n",
      "  8.  7.  4.  8.  9.  9.  8.  8.  6.  4.  8.  8.  8.  8.  8.  6.  3.  7.\n",
      "  8.  8.  8.]\n"
     ]
    },
    {
     "data": {
      "image/png": "[encoded data removed]",
      "text/plain": [
       "<Figure size 432x288 with 1 Axes>"
      ]
     },
     "metadata": {
      "needs_background": "light"
     },
     "output_type": "display_data"
    },
    {
     "name": "stdout",
     "output_type": "stream",
     "text": [
      "Pi_ij = 0.24324324324324326\n"
     ]
    }
   ],
   "source": [
    "import matplotlib.pyplot as plt\n",
    "\n",
    "# Importar los datos y calcular la energía diaria\n",
    "vector_energia = energia_diaria('demanda_2019.json')\n",
    "\n",
    "# Definir los estados\n",
    "numero_estados = 10\n",
    "vector_estados = definicion_estados(vector_energia, numero_estados)\n",
    "print(vector_estados)\n",
    "\n",
    "# Graficar la evolución de los estados\n",
    "plt.plot(vector_estados)\n",
    "plt.xlabel('Día del año')\n",
    "plt.ylabel('Consumo de energía (estado)')\n",
    "plt.show()\n",
    "\n",
    "# Definir la probabilidad de transición de \"i\" a \"j\"\n",
    "i, j = 10, 9\n",
    "Pi_ij = probabilidad_transicion(vector_estados, numero_estados, i, j)\n",
    "print('Pi_ij =', Pi_ij)"
   ]
  },
  {
   "cell_type": "markdown",
   "metadata": {},
   "source": [
    "---\n",
    "## 4. - Asignaciones del proyecto\n",
    "\n",
    "### Asignación de parámetros\n",
    "\n",
    "Las asignaciones requieren de valores de $t$, $i$, $j$ asignados según carné. "
   ]
  },
  {
   "cell_type": "code",
   "execution_count": 6,
   "metadata": {},
   "outputs": [],
   "source": [
    "from numpy import random\n",
    "from scipy import stats\n",
    "\n",
    "def parametros_asignados(digitos):\n",
    "    '''Elige un valor t aleatoriamente,\n",
    "    dos estados arbitrarios i y j\n",
    "    '''\n",
    "    \n",
    "    random.seed(digitos)\n",
    "    estados = [i+1 for i in range(10)]\n",
    "    T = stats.expon(2)\n",
    "    t = int(T.rvs())\n",
    "    i = estados[random.randint(0, len(estados))]\n",
    "    j = estados[random.randint(0, len(estados))]\n",
    "    print('t: {}, i: {}, j: {}'.format(t, i, j))\n",
    "    return t, i, j"
   ]
  },
  {
   "cell_type": "markdown",
   "metadata": {},
   "source": [
    "**Ejemplo**: el carné B12345 utiliza los dígitos 12345 y obtiene los parámetros $t$: 4, $i$: 2, $j$: 5."
   ]
  },
  {
   "cell_type": "code",
   "execution_count": 7,
   "metadata": {},
   "outputs": [
    {
     "name": "stdout",
     "output_type": "stream",
     "text": [
      "t: 4, i: 2, j: 5\n"
     ]
    }
   ],
   "source": [
    "t, i, j = parametros_asignados(12345)"
   ]
  },
  {
   "cell_type": "markdown",
   "metadata": {},
   "source": [
    "### 4.1. - Encuesta del curso\n",
    "\n",
    "* (30%) Completar la encuesta disponible a partir del lunes 7 de diciembre de 2020.\n",
    "\n",
    "### 4.2. - Construir la matriz de transición de estados\n",
    "\n",
    "* (30%) Para los datos dados, crear la matriz de probabilidades de transición de estados, considerando que el rango de valores de energía se divide en $N = 10$ estados, donde $i, j \\in \\{ 1, \\ldots, 10 \\}$ son estados particulares.\n",
    "\n",
    "### 4.3. - Construcción de la matriz de transición de orden *t* predicción\n",
    "\n",
    "Para los valores obtenidos en `parametros_asignados()`:\n",
    "\n",
    "* (20%) Construir la matriz de transición de estados de orden $t$.\n",
    "\n",
    "* (20%) Determinar la probabilidad de estar en el estado $j$, $t$ días después de estar en el estado $i$."
   ]
  },
  {
   "cell_type": "markdown",
   "metadata": {},
   "source": [
    "---\n",
    "\n",
    "### Universidad de Costa Rica\n",
    "#### Facultad de Ingeniería\n",
    "##### Escuela de Ingeniería Eléctrica\n",
    "\n",
    "---"
   ]
  }
 ],
 "metadata": {
  "kernelspec": {
   "display_name": "Python 3",
   "language": "python",
   "name": "python3"
  },
  "language_info": {
   "codemirror_mode": {
    "name": "ipython",
    "version": 3
   },
   "file_extension": ".py",
   "mimetype": "text/x-python",
   "name": "python",
   "nbconvert_exporter": "python",
   "pygments_lexer": "ipython3",
   "version": "3.8.3"
  }
 },
 "nbformat": 4,
 "nbformat_minor": 2
}
